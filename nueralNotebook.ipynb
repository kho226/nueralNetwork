{
 "cells": [
  {
   "cell_type": "code",
   "execution_count": 48,
   "metadata": {
    "collapsed": false
   },
   "outputs": [],
   "source": [
    "import numpy\n",
    "# scipy.special for the sigmoid function expit()\n",
    "import scipy.special\n",
    "# library for plotting arrays\n",
    "import matplotlib.pyplot\n",
    "# ensure the plots are inside this note"
   ]
  },
  {
   "cell_type": "code",
   "execution_count": 49,
   "metadata": {
    "collapsed": false
   },
   "outputs": [],
   "source": [
    "# neural network class definition\n",
    "class neuralNetwork:\n",
    "    \n",
    "    \n",
    "    # initialise the neural network\n",
    "    def __init__(self, inputNodes, hiddenNodes, outputNodes, learningRate):\n",
    "        # set number of nodes in each input, hidden, output layer\n",
    "        self.inputNodes = inputNodes\n",
    "        self.hiddenNodes = hiddenNodes\n",
    "        self.outputNodes = outputNodes\n",
    "        \n",
    "        #link weights matrices, wih and woh\n",
    "        #links inside the arrays are Wij\n",
    "        #the link and associated weight are from node i to node j\n",
    "        #W11, W22, etc\n",
    "        #A matrix for the link weights between input and hidden layers; Winput_hidden of size (inputNodes x hiddenNodesnode)\n",
    "        self.wih = numpy.random.normal(0.0, pow(self.hiddenNodes, -0.5), (self.hiddenNodes, self.inputNodes))\n",
    "        self.who = numpy.random.normal(0.0, pow(self.outputNodes, -0.5), (self.outputNodes, self.hiddenNodes))\n",
    "\n",
    "        # learning rate\n",
    "        self.lr = learningRate\n",
    "        \n",
    "        # activation function is the sigmoid function\n",
    "        self.activationFunction = lambda x: scipy.special.expit(x)\n",
    "        \n",
    "        self.display()\n",
    "        \n",
    "        pass\n",
    "\n",
    "    \n",
    "    # train the neural network\n",
    "    def train(self, inputsList, targetsList):\n",
    "        # convert inputs list to 2d array\n",
    "        inputs = numpy.array(inputsList, ndmin=2).T\n",
    "        targets = numpy.array(targetsList, ndmin=2).T\n",
    "        \n",
    "        # calculate signals into hidden layer\n",
    "        hiddenInputs = numpy.dot(self.wih, inputs)\n",
    "        # calculate the signals emerging from hidden layer\n",
    "        hiddenOutputs = self.activationFunction(hiddenInputs)\n",
    "        \n",
    "        # calculate signals into final output layer\n",
    "        finalInputs = numpy.dot(self.who, hiddenOutputs)\n",
    "        # calculate the signals emerging from final output layer\n",
    "        finalOutputs = self.activationFunction(finalInputs)\n",
    "        \n",
    "        # output layer error is the (target - actual)\n",
    "        outputErrors = targets - finalOutputs\n",
    "        # hidden layer error is the output_errors, split by weights, recombined at hidden nodes\n",
    "        #propogate error backwards by multiply error matrix by the transpose of the matrices of link weights, who\n",
    "        hiddenErrors = numpy.dot(self.who.T, outputErrors) \n",
    "        \n",
    "        # update the weights for the links between the hidden and output layers\n",
    "        self.who += self.lr * numpy.dot((outputErrors * finalOutputs * (1.0 - finalOutputs)), numpy.transpose(hiddenOutputs))\n",
    "        \n",
    "        # update the weights for the links between the input and hidden layers\n",
    "        self.wih += self.lr * numpy.dot((hiddenErrors * hiddenOutputs * (1.0 - hiddenOutputs)), numpy.transpose(inputs))\n",
    "        \n",
    "        pass\n",
    "\n",
    "    \n",
    "    # query the neural network\n",
    "    def query(self, inputsList):\n",
    "        # convert inputs list to 2d array\n",
    "        inputs = numpy.array(inputsList, ndmin=2).T\n",
    "        \n",
    "        # calculate signals into hidden layer\n",
    "        hiddenInputs = numpy.dot(self.wih, inputs)\n",
    "        # calculate the signals emerging from hidden layer\n",
    "        hiddenOutputs = self.activationFunction(hiddenInputs)\n",
    "        \n",
    "        # calculate signals into final output layer\n",
    "        finalInputs = numpy.dot(self.who, hiddenOutputs)\n",
    "        # calculate the signals emerging from final output layer\n",
    "        finalOutputs = self.activationFunction(finalInputs)\n",
    "        \n",
    "        return finalOutputs\n",
    "    \n",
    "    def display(self):\n",
    "        print (\"input Nodes:\" + str(self.inputNodes))\n",
    "        print(\"hidden Nodes:\" + str(self.hiddenNodes))\n",
    "        print(\"output Nodes:\" + str(self.outputNodes))\n",
    "        print (\"learning factor:\" + str(self.lr))\n",
    "        print(self.wih)\n",
    "        print(self.who)\n",
    "        pass"
   ]
  },
  {
   "cell_type": "code",
   "execution_count": 50,
   "metadata": {
    "collapsed": false
   },
   "outputs": [
    {
     "name": "stdout",
     "output_type": "stream",
     "text": [
      "input Nodes:784\n",
      "hidden Nodes:200\n",
      "output Nodes:10\n",
      "learning factor:0.1\n",
      "[[-0.02659391  0.03611703  0.01736512 ..., -0.01042904 -0.06036974\n",
      "  -0.10880136]\n",
      " [-0.069619   -0.06226659 -0.02222478 ..., -0.07270145 -0.05236426\n",
      "  -0.08295936]\n",
      " [-0.02783991 -0.05530158 -0.02674274 ...,  0.05225968  0.02780106\n",
      "   0.09025519]\n",
      " ..., \n",
      " [ 0.1250711   0.02711176  0.01356108 ..., -0.06468132  0.12874904\n",
      "   0.0398103 ]\n",
      " [ 0.01625085 -0.05192099  0.02040124 ..., -0.06495166  0.07073156\n",
      "  -0.03538628]\n",
      " [ 0.04434769  0.01567345 -0.09563555 ..., -0.02233426  0.02920629\n",
      "  -0.13634629]]\n",
      "[[-0.57980404 -0.76378118 -0.1242614  ...,  0.01311312  0.01528455\n",
      "   0.29294773]\n",
      " [-0.36731315  0.46285085  0.14182318 ..., -0.01173802 -0.09675093\n",
      "   0.22704595]\n",
      " [-0.54779383  0.05789203  0.08622255 ..., -0.0531833   0.04874572\n",
      "   0.331809  ]\n",
      " ..., \n",
      " [ 0.00975582 -0.31304756  0.16755064 ...,  0.0045519  -0.08650348\n",
      "   0.4951445 ]\n",
      " [-0.15039309 -0.12137068  0.31221731 ..., -0.12162649  0.08458014\n",
      "   0.2141723 ]\n",
      " [-0.05994016 -0.13015655 -0.32598092 ...,  0.10544642 -0.57585432\n",
      "   0.39769749]]\n"
     ]
    }
   ],
   "source": [
    "# number of input, hidden and output nodes\n",
    "inputNodes = 784\n",
    "hiddenNodes = 200\n",
    "outputNodes = 10\n",
    "\n",
    "# learning rate\n",
    "learningRate = 0.1\n",
    "\n",
    "# create instance of neural network\n",
    "nueral = neuralNetwork(inputNodes,hiddenNodes,outputNodes, learningRate)"
   ]
  },
  {
   "cell_type": "code",
   "execution_count": 51,
   "metadata": {
    "collapsed": false
   },
   "outputs": [
    {
     "ename": "FileNotFoundError",
     "evalue": "[Errno 2] No such file or directory: '/insert path to /training/mnist_train_100.csv'",
     "output_type": "error",
     "traceback": [
      "\u001b[0;31m---------------------------------------------------------------------------\u001b[0m",
      "\u001b[0;31mFileNotFoundError\u001b[0m                         Traceback (most recent call last)",
      "\u001b[0;32m<ipython-input-51-c5dcac8a1f19>\u001b[0m in \u001b[0;36m<module>\u001b[0;34m()\u001b[0m\n\u001b[1;32m      1\u001b[0m \u001b[0;31m# load the mnist training data CSV file into a list\u001b[0m\u001b[0;34m\u001b[0m\u001b[0;34m\u001b[0m\u001b[0m\n\u001b[0;32m----> 2\u001b[0;31m \u001b[0mtrainingDataFile\u001b[0m \u001b[0;34m=\u001b[0m \u001b[0mopen\u001b[0m\u001b[0;34m(\u001b[0m\u001b[0;34m\"/insert path to /training/mnist_train_100.csv\"\u001b[0m\u001b[0;34m,\u001b[0m \u001b[0;34m'r'\u001b[0m\u001b[0;34m)\u001b[0m \u001b[0;31m#here\u001b[0m\u001b[0;34m\u001b[0m\u001b[0m\n\u001b[0m\u001b[1;32m      3\u001b[0m \u001b[0mtrainingDataList\u001b[0m \u001b[0;34m=\u001b[0m \u001b[0mtrainingDataFile\u001b[0m\u001b[0;34m.\u001b[0m\u001b[0mreadlines\u001b[0m\u001b[0;34m(\u001b[0m\u001b[0;34m)\u001b[0m\u001b[0;34m\u001b[0m\u001b[0m\n\u001b[1;32m      4\u001b[0m \u001b[0;31m#print (training_data_list)\u001b[0m\u001b[0;34m\u001b[0m\u001b[0;34m\u001b[0m\u001b[0m\n\u001b[1;32m      5\u001b[0m \u001b[0mtrainingDataFile\u001b[0m\u001b[0;34m.\u001b[0m\u001b[0mclose\u001b[0m\u001b[0;34m(\u001b[0m\u001b[0;34m)\u001b[0m\u001b[0;34m\u001b[0m\u001b[0m\n",
      "\u001b[0;31mFileNotFoundError\u001b[0m: [Errno 2] No such file or directory: '/insert path to /training/mnist_train_100.csv'"
     ]
    }
   ],
   "source": [
    "# load the mnist training data CSV file into a list\n",
    "trainingDataFile = open(\"/insert path to /training/mnist_train_100.csv\", 'r') #here\n",
    "trainingDataList = trainingDataFile.readlines()\n",
    "#print (training_data_list)\n",
    "trainingDataFile.close()"
   ]
  },
  {
   "cell_type": "code",
   "execution_count": null,
   "metadata": {
    "collapsed": false
   },
   "outputs": [],
   "source": [
    "# train the neural network\n",
    "\n",
    "# epochs is the number of times the training data set is used for training\n",
    "epochs = 5\n",
    "\n",
    "for e in range(epochs):\n",
    "    # go through all records in the training data set\n",
    "    for record in trainingDataList:\n",
    "        # split the record by the ',' commas\n",
    "        allValues = record.split(',')\n",
    "        # scale and shift the inputs\n",
    "        inputs = (numpy.asfarray(allValues[1:]) / 255.0 * 0.99) + 0.01\n",
    "        # create the target output values (all 0.01, except the desired label which is 0.99)\n",
    "        targets = numpy.zeros(outputNodes) + 0.01\n",
    "        # all_values[0] is the target label for this record\n",
    "        targets[int(allValues[0])] = 0.99\n",
    "        nueral.train(inputs, targets)\n",
    "        pass\n",
    "    pass"
   ]
  },
  {
   "cell_type": "code",
   "execution_count": null,
   "metadata": {
    "collapsed": false,
    "scrolled": true
   },
   "outputs": [],
   "source": [
    "# load the mnist test data CSV file into a list\n",
    "testDataFile = open(\"/insert path to /test/mnist_test.csv\", 'r') #here\n",
    "testDataList = testDataFile.readlines()\n",
    "#print (testDataList)\n",
    "testDataFile.close()"
   ]
  },
  {
   "cell_type": "code",
   "execution_count": null,
   "metadata": {
    "collapsed": false,
    "scrolled": true
   },
   "outputs": [],
   "source": [
    "# test the neural network\n",
    "\n",
    "# scorecard for how well the network performs, initially empty\n",
    "scorecard = []\n",
    "\n",
    "# go through all the records in the test data set\n",
    "for record in testDataList:\n",
    "    # split the record by the ',' commas\n",
    "    allValues = record.split(',')\n",
    "    # correct answer is first value\n",
    "    correctLabel = int(allValues[0])\n",
    "    # scale and shift the inputs\n",
    "    inputs = (numpy.asfarray(allValues[1:]) / 255.0 * 0.99) + 0.01\n",
    "    # query the network\n",
    "    outputs = nueral.query(inputs)\n",
    "    # the index of the highest value corresponds to the label\n",
    "    label = numpy.argmax(outputs)\n",
    "    # append correct or incorrect to list\n",
    "    if (label == correctLabel):\n",
    "        # network's answer matches correct answer, add 1 to scorecard\n",
    "        scorecard.append(1)\n",
    "    else:\n",
    "        # network's answer doesn't match correct answer, add 0 to scorecard\n",
    "        scorecard.append(0)\n",
    "        pass\n",
    "    \n",
    "    pass"
   ]
  },
  {
   "cell_type": "code",
   "execution_count": null,
   "metadata": {
    "collapsed": false
   },
   "outputs": [],
   "source": [
    "# calculate the performance score, the fraction of correct answers\n",
    "scorecardArray = numpy.asarray(scorecard)\n",
    "print (\"performance = \", scorecardArray.sum() / scorecardArray.size)"
   ]
  },
  {
   "cell_type": "code",
   "execution_count": null,
   "metadata": {
    "collapsed": false
   },
   "outputs": [],
   "source": []
  },
  {
   "cell_type": "code",
   "execution_count": null,
   "metadata": {
    "collapsed": false
   },
   "outputs": [],
   "source": []
  },
  {
   "cell_type": "code",
   "execution_count": null,
   "metadata": {
    "collapsed": false
   },
   "outputs": [],
   "source": []
  },
  {
   "cell_type": "code",
   "execution_count": null,
   "metadata": {
    "collapsed": false
   },
   "outputs": [],
   "source": []
  },
  {
   "cell_type": "code",
   "execution_count": null,
   "metadata": {
    "collapsed": false
   },
   "outputs": [],
   "source": []
  },
  {
   "cell_type": "code",
   "execution_count": null,
   "metadata": {
    "collapsed": true
   },
   "outputs": [],
   "source": []
  },
  {
   "cell_type": "code",
   "execution_count": null,
   "metadata": {
    "collapsed": false
   },
   "outputs": [],
   "source": []
  },
  {
   "cell_type": "code",
   "execution_count": null,
   "metadata": {
    "collapsed": true
   },
   "outputs": [],
   "source": []
  }
 ],
 "metadata": {
  "kernelspec": {
   "display_name": "Python 3",
   "language": "python",
   "name": "python3"
  },
  "language_info": {
   "codemirror_mode": {
    "name": "ipython",
    "version": 3
   },
   "file_extension": ".py",
   "mimetype": "text/x-python",
   "name": "python",
   "nbconvert_exporter": "python",
   "pygments_lexer": "ipython3",
   "version": "3.5.1"
  }
 },
 "nbformat": 4,
 "nbformat_minor": 0
}
